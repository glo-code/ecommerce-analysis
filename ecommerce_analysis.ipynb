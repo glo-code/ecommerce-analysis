{
  "cells": [
    {
      "cell_type": "markdown",
      "metadata": {
        "id": "view-in-github",
        "colab_type": "text"
      },
      "source": [
        "<a href=\"https://colab.research.google.com/github/glo-code/ecommerce-analysis/blob/main/ecommerce_analysis.ipynb\" target=\"_parent\"><img src=\"https://colab.research.google.com/assets/colab-badge.svg\" alt=\"Open In Colab\"/></a>"
      ]
    },
    {
      "cell_type": "code",
      "source": [
        "import numpy as np\n",
        "import pandas as pd\n",
        "import seaborn as sns\n",
        "import matplotlib.pyplot as plt\n",
        "import json\n",
        "import datetime"
      ],
      "metadata": {
        "id": "oepHzmpzH7L6"
      },
      "id": "oepHzmpzH7L6",
      "execution_count": 1,
      "outputs": []
    },
    {
      "cell_type": "code",
      "source": [
        "df=pd.read_csv('Amazon Sale Report.csv',parse_dates=True,on_bad_lines='skip',low_memory=False)\n",
        "df"
      ],
      "metadata": {
        "colab": {
          "base_uri": "https://localhost:8080/",
          "height": 223
        },
        "id": "L-i05uSOIl48",
        "outputId": "a65c350a-8317-4c27-8b3c-22e493ae11e3"
      },
      "id": "L-i05uSOIl48",
      "execution_count": 3,
      "outputs": [
        {
          "output_type": "error",
          "ename": "ParserError",
          "evalue": "Error tokenizing data. C error: EOF inside string starting at row 117935",
          "traceback": [
            "\u001b[0;31m---------------------------------------------------------------------------\u001b[0m",
            "\u001b[0;31mParserError\u001b[0m                               Traceback (most recent call last)",
            "\u001b[0;32m<ipython-input-3-195cccfe5bb4>\u001b[0m in \u001b[0;36m<cell line: 1>\u001b[0;34m()\u001b[0m\n\u001b[0;32m----> 1\u001b[0;31m \u001b[0mdf\u001b[0m\u001b[0;34m=\u001b[0m\u001b[0mpd\u001b[0m\u001b[0;34m.\u001b[0m\u001b[0mread_csv\u001b[0m\u001b[0;34m(\u001b[0m\u001b[0;34m'Amazon Sale Report.csv'\u001b[0m\u001b[0;34m,\u001b[0m\u001b[0mparse_dates\u001b[0m\u001b[0;34m=\u001b[0m\u001b[0;32mTrue\u001b[0m\u001b[0;34m,\u001b[0m\u001b[0mon_bad_lines\u001b[0m\u001b[0;34m=\u001b[0m\u001b[0;34m'skip'\u001b[0m\u001b[0;34m,\u001b[0m\u001b[0mlow_memory\u001b[0m\u001b[0;34m=\u001b[0m\u001b[0;32mFalse\u001b[0m\u001b[0;34m)\u001b[0m\u001b[0;34m\u001b[0m\u001b[0;34m\u001b[0m\u001b[0m\n\u001b[0m\u001b[1;32m      2\u001b[0m \u001b[0mdf\u001b[0m\u001b[0;34m\u001b[0m\u001b[0;34m\u001b[0m\u001b[0m\n",
            "\u001b[0;32m/usr/local/lib/python3.10/dist-packages/pandas/io/parsers/readers.py\u001b[0m in \u001b[0;36mread_csv\u001b[0;34m(filepath_or_buffer, sep, delimiter, header, names, index_col, usecols, dtype, engine, converters, true_values, false_values, skipinitialspace, skiprows, skipfooter, nrows, na_values, keep_default_na, na_filter, verbose, skip_blank_lines, parse_dates, infer_datetime_format, keep_date_col, date_parser, date_format, dayfirst, cache_dates, iterator, chunksize, compression, thousands, decimal, lineterminator, quotechar, quoting, doublequote, escapechar, comment, encoding, encoding_errors, dialect, on_bad_lines, delim_whitespace, low_memory, memory_map, float_precision, storage_options, dtype_backend)\u001b[0m\n\u001b[1;32m    910\u001b[0m     \u001b[0mkwds\u001b[0m\u001b[0;34m.\u001b[0m\u001b[0mupdate\u001b[0m\u001b[0;34m(\u001b[0m\u001b[0mkwds_defaults\u001b[0m\u001b[0;34m)\u001b[0m\u001b[0;34m\u001b[0m\u001b[0;34m\u001b[0m\u001b[0m\n\u001b[1;32m    911\u001b[0m \u001b[0;34m\u001b[0m\u001b[0m\n\u001b[0;32m--> 912\u001b[0;31m     \u001b[0;32mreturn\u001b[0m \u001b[0m_read\u001b[0m\u001b[0;34m(\u001b[0m\u001b[0mfilepath_or_buffer\u001b[0m\u001b[0;34m,\u001b[0m \u001b[0mkwds\u001b[0m\u001b[0;34m)\u001b[0m\u001b[0;34m\u001b[0m\u001b[0;34m\u001b[0m\u001b[0m\n\u001b[0m\u001b[1;32m    913\u001b[0m \u001b[0;34m\u001b[0m\u001b[0m\n\u001b[1;32m    914\u001b[0m \u001b[0;34m\u001b[0m\u001b[0m\n",
            "\u001b[0;32m/usr/local/lib/python3.10/dist-packages/pandas/io/parsers/readers.py\u001b[0m in \u001b[0;36m_read\u001b[0;34m(filepath_or_buffer, kwds)\u001b[0m\n\u001b[1;32m    581\u001b[0m \u001b[0;34m\u001b[0m\u001b[0m\n\u001b[1;32m    582\u001b[0m     \u001b[0;32mwith\u001b[0m \u001b[0mparser\u001b[0m\u001b[0;34m:\u001b[0m\u001b[0;34m\u001b[0m\u001b[0;34m\u001b[0m\u001b[0m\n\u001b[0;32m--> 583\u001b[0;31m         \u001b[0;32mreturn\u001b[0m \u001b[0mparser\u001b[0m\u001b[0;34m.\u001b[0m\u001b[0mread\u001b[0m\u001b[0;34m(\u001b[0m\u001b[0mnrows\u001b[0m\u001b[0;34m)\u001b[0m\u001b[0;34m\u001b[0m\u001b[0;34m\u001b[0m\u001b[0m\n\u001b[0m\u001b[1;32m    584\u001b[0m \u001b[0;34m\u001b[0m\u001b[0m\n\u001b[1;32m    585\u001b[0m \u001b[0;34m\u001b[0m\u001b[0m\n",
            "\u001b[0;32m/usr/local/lib/python3.10/dist-packages/pandas/io/parsers/readers.py\u001b[0m in \u001b[0;36mread\u001b[0;34m(self, nrows)\u001b[0m\n\u001b[1;32m   1702\u001b[0m                     \u001b[0mcolumns\u001b[0m\u001b[0;34m,\u001b[0m\u001b[0;34m\u001b[0m\u001b[0;34m\u001b[0m\u001b[0m\n\u001b[1;32m   1703\u001b[0m                     \u001b[0mcol_dict\u001b[0m\u001b[0;34m,\u001b[0m\u001b[0;34m\u001b[0m\u001b[0;34m\u001b[0m\u001b[0m\n\u001b[0;32m-> 1704\u001b[0;31m                 \u001b[0;34m)\u001b[0m \u001b[0;34m=\u001b[0m \u001b[0mself\u001b[0m\u001b[0;34m.\u001b[0m\u001b[0m_engine\u001b[0m\u001b[0;34m.\u001b[0m\u001b[0mread\u001b[0m\u001b[0;34m(\u001b[0m  \u001b[0;31m# type: ignore[attr-defined]\u001b[0m\u001b[0;34m\u001b[0m\u001b[0;34m\u001b[0m\u001b[0m\n\u001b[0m\u001b[1;32m   1705\u001b[0m                     \u001b[0mnrows\u001b[0m\u001b[0;34m\u001b[0m\u001b[0;34m\u001b[0m\u001b[0m\n\u001b[1;32m   1706\u001b[0m                 )\n",
            "\u001b[0;32m/usr/local/lib/python3.10/dist-packages/pandas/io/parsers/c_parser_wrapper.py\u001b[0m in \u001b[0;36mread\u001b[0;34m(self, nrows)\u001b[0m\n\u001b[1;32m    237\u001b[0m \u001b[0;34m\u001b[0m\u001b[0m\n\u001b[1;32m    238\u001b[0m             \u001b[0;32melse\u001b[0m\u001b[0;34m:\u001b[0m\u001b[0;34m\u001b[0m\u001b[0;34m\u001b[0m\u001b[0m\n\u001b[0;32m--> 239\u001b[0;31m                 \u001b[0mdata\u001b[0m \u001b[0;34m=\u001b[0m \u001b[0mself\u001b[0m\u001b[0;34m.\u001b[0m\u001b[0m_reader\u001b[0m\u001b[0;34m.\u001b[0m\u001b[0mread\u001b[0m\u001b[0;34m(\u001b[0m\u001b[0mnrows\u001b[0m\u001b[0;34m)\u001b[0m\u001b[0;34m\u001b[0m\u001b[0;34m\u001b[0m\u001b[0m\n\u001b[0m\u001b[1;32m    240\u001b[0m         \u001b[0;32mexcept\u001b[0m \u001b[0mStopIteration\u001b[0m\u001b[0;34m:\u001b[0m\u001b[0;34m\u001b[0m\u001b[0;34m\u001b[0m\u001b[0m\n\u001b[1;32m    241\u001b[0m             \u001b[0;32mif\u001b[0m \u001b[0mself\u001b[0m\u001b[0;34m.\u001b[0m\u001b[0m_first_chunk\u001b[0m\u001b[0;34m:\u001b[0m\u001b[0;34m\u001b[0m\u001b[0;34m\u001b[0m\u001b[0m\n",
            "\u001b[0;32m/usr/local/lib/python3.10/dist-packages/pandas/_libs/parsers.pyx\u001b[0m in \u001b[0;36mpandas._libs.parsers.TextReader.read\u001b[0;34m()\u001b[0m\n",
            "\u001b[0;32m/usr/local/lib/python3.10/dist-packages/pandas/_libs/parsers.pyx\u001b[0m in \u001b[0;36mpandas._libs.parsers.TextReader._read_rows\u001b[0;34m()\u001b[0m\n",
            "\u001b[0;32m/usr/local/lib/python3.10/dist-packages/pandas/_libs/parsers.pyx\u001b[0m in \u001b[0;36mpandas._libs.parsers.TextReader._check_tokenize_status\u001b[0;34m()\u001b[0m\n",
            "\u001b[0;32m/usr/local/lib/python3.10/dist-packages/pandas/_libs/parsers.pyx\u001b[0m in \u001b[0;36mpandas._libs.parsers.raise_parser_error\u001b[0;34m()\u001b[0m\n",
            "\u001b[0;31mParserError\u001b[0m: Error tokenizing data. C error: EOF inside string starting at row 117935"
          ]
        }
      ]
    },
    {
      "cell_type": "markdown",
      "source": [
        "\n",
        "\n",
        "```\n",
        "Indagine sui clienti\n",
        "\n",
        "\n",
        "```\n",
        "\n"
      ],
      "metadata": {
        "id": "AowR852vKrsK"
      },
      "id": "AowR852vKrsK"
    },
    {
      "cell_type": "markdown",
      "source": [
        "Ordine ID e Status"
      ],
      "metadata": {
        "id": "ueUtIOpafGSy"
      },
      "id": "ueUtIOpafGSy"
    },
    {
      "cell_type": "code",
      "source": [
        "data=pd.to_datetime(df['Date'])\n",
        "df['months']=data.dt.month_name()\n",
        "df['year']=data.dt.year\n",
        "df['day']=data.dt.day\n",
        "\n",
        "\n",
        "group=df.groupby(['day','months','year'])[['Order ID','Status']].value_counts().reset_index()\n",
        "mask=np.where(group['count']<group['count'].max())[0]\n",
        "print('Order less than max:',group['count'].iloc[mask].sum(),'in the day:',group.iloc[mask])\n",
        "mask2=group['count'][group['count']==group['count'].max()]\n",
        "'Order == max:',mask2.value_counts(),'in the day:',group.iloc[mask2.index]\n"
      ],
      "metadata": {
        "id": "s4mXKRfhKHlz"
      },
      "id": "s4mXKRfhKHlz",
      "execution_count": null,
      "outputs": []
    },
    {
      "cell_type": "markdown",
      "source": [
        "Notiamo che il massimo di ordini da parte di un cliente è di 12 mentre il minimo è 1.Il massimo di ordini si è verificato sia ad aprile che a maggio, soltanto che a maggio si è trattato non di ordini spediti ma cancellati dallo stesso cliente.\n",
        "Abbiamo invece contro i 2 ordini più alti, 91354 ordini minimi da più clienti.\n"
      ],
      "metadata": {
        "id": "z1axwfLyHAv_"
      },
      "id": "z1axwfLyHAv_"
    },
    {
      "cell_type": "code",
      "source": [
        "count=group.groupby('months')['Status'].value_counts().unstack()\n",
        "count=count.fillna(0).astype(int)\n",
        "count"
      ],
      "metadata": {
        "id": "NZfSmuZnsGpq"
      },
      "id": "NZfSmuZnsGpq",
      "execution_count": null,
      "outputs": []
    },
    {
      "cell_type": "code",
      "source": [
        "perc_precise=count/count.sum()*100\n",
        "perc_precise.round(2).reset_index()\n",
        "\n",
        "\n",
        "labels=set(df['Status'])\n",
        "\n",
        "conteggio=0\n",
        "for categorie in perc_precise:\n",
        "    categorie=perc_precise.iloc[conteggio]\n",
        "    print(categorie.name)\n",
        "    ax,fig=plt.subplots()\n",
        "    plt.pie(categorie,labels=labels,autopct='%1.1f%%')\n",
        "    conteggio=conteggio+1\n",
        "    if conteggio==len(perc_precise.index):\n",
        "       break\n"
      ],
      "metadata": {
        "id": "y9EvERgcV53h"
      },
      "id": "y9EvERgcV53h",
      "execution_count": null,
      "outputs": []
    },
    {
      "cell_type": "code",
      "source": [
        "lista_mesi=['June','May','April','March']\n",
        "ordini_totali=[]\n",
        "for mese in lista_mesi:\n",
        "    result=group['count'][group['months']==mese].sum()\n",
        "    ordini_totali.append(result)\n",
        "\n",
        "ordini_totali=pd.Series(ordini_totali)\n",
        "print('Ordini per mese',ordini_totali)\n",
        "print('Ordini totali',ordini_totali.sum())\n",
        "perc=ordini_totali/ordini_totali.sum()*100\n",
        "perc=perc.round(2)\n",
        "\n",
        "ax,fig=plt.subplots()\n",
        "plt.pie(perc,labels=lista_mesi,autopct='%1.1f%%')\n",
        "plt.show()\n",
        "\n"
      ],
      "metadata": {
        "id": "JtqKmEb7I3hn"
      },
      "id": "JtqKmEb7I3hn",
      "execution_count": null,
      "outputs": []
    },
    {
      "cell_type": "markdown",
      "source": [
        "Notiamo che ad Aprile abbiamo il maggior numero di ordini spediti (17.8%) e cancellati (15,5%). Abbiamo anche un modesto numero di ordini ritornati al venditore e in sospeso(16%). A giugno invece alto numero di ordini spediti ma anche cancellati anche se sono di meno rispetto ad aprile. Pochi però i resi e molti sospesi. A marzo nessun ordine sospeso e pochi cancellati ma ben il 44% degli ordini persi nel transito e 27% cancellati rispetto al 15,5% di aprile. E' il mese in cui si hanno avuti meno ordini. A maggio la maggior parte spediti e cancellati ed un numero moderato minore rispetto ad aprile di resi (21.6% rispetto al 16% di aprile). Pochi sospesi (18% rispetto ad aprile) e il 17% di persi nel transito e cancellati.\n",
        "\n",
        "Quindi si è venduto di più tra aprile e maggio (47% e 40%) e modertamente a giugno (12%) e di meno a marzo (0.2%).\n",
        "\n"
      ],
      "metadata": {
        "id": "CNn9aBs4NcXs"
      },
      "id": "CNn9aBs4NcXs"
    },
    {
      "cell_type": "code",
      "source": [
        "total=df['Status'].value_counts().sum()\n",
        "status=df['Status'].value_counts().apply(lambda x:x/total*100).round(2).reset_index()\n",
        "#status=status[status['count']!=0.0]\n",
        "value=status['count']\n",
        "fig,ax=plt.subplots()\n",
        "labels=status['Status']\n",
        "plt.pie(value,labels=labels,autopct='%1.1f%%')#,startangle=90,shadow=True,labeldistance=0.80,pctdistance=0.5)\n",
        "status"
      ],
      "metadata": {
        "id": "3G8rZynzvNw7"
      },
      "id": "3G8rZynzvNw7",
      "execution_count": null,
      "outputs": []
    },
    {
      "cell_type": "markdown",
      "source": [
        "Notiamo che la maggior parte degli ordini nei mesi indicati, sono stati spediti (circa il 58,8%) mentre il 25 % è stato spedito e consegnato al compratore. Il 14% invece è stato cancellato mentre soltanto 1.8% degli ordini è stato mandato indietro.\n",
        "Soltanto per il 0,2% invece è stato effettuato il reso ma ancora l'ordine non è ritornato al venditore.\n",
        "\n"
      ],
      "metadata": {
        "id": "t_bq_eMhFpyx"
      },
      "id": "t_bq_eMhFpyx"
    },
    {
      "cell_type": "code",
      "source": [
        "\n",
        "sns.catplot(group,x=group['months'],y=group['count'],kind='bar',hue='Status')\n",
        "plt.show()\n",
        "group"
      ],
      "metadata": {
        "id": "K58hbVwvylqf"
      },
      "id": "K58hbVwvylqf",
      "execution_count": null,
      "outputs": []
    },
    {
      "cell_type": "markdown",
      "source": [
        "Tipo di prodotto acquistato\n"
      ],
      "metadata": {
        "id": "YO3F1Nd5fL1C"
      },
      "id": "YO3F1Nd5fL1C"
    },
    {
      "cell_type": "code",
      "source": [
        "clothes=df['Category'].value_counts().reset_index()\n",
        "perc_vestiti=clothes['count']/clothes['count'].sum()*100\n",
        "vestiti_mesi=df.groupby('Category')['months'].value_counts().unstack()\n",
        "vestiti_mesi.fillna(0).astype(int)\n",
        "clothes.sum()"
      ],
      "metadata": {
        "id": "b8tK1M6pfPcF"
      },
      "id": "b8tK1M6pfPcF",
      "execution_count": null,
      "outputs": []
    },
    {
      "cell_type": "code",
      "source": [
        "sns.barplot(clothes,x='Category',y='count')\n",
        "plt.xticks(rotation=90)\n",
        "plt.show()"
      ],
      "metadata": {
        "id": "AP9jQKqxgFWU"
      },
      "id": "AP9jQKqxgFWU",
      "execution_count": null,
      "outputs": []
    },
    {
      "cell_type": "markdown",
      "source": [
        "Notiamo che i prodotti più acquistati in assoluto sono i set e la kurta e moderatamente il western dress e top. I prodotti meno acquistati sono ethnic dress, blouse, bottom e saree e ancora meno (soltanto 3 acquisti) il dupatta.\n",
        "Dalle percentuali notiamo che il 39% acquista il set e il 38% il kurta mentre il 12% il western dress e soltanto l'8.2% il top."
      ],
      "metadata": {
        "id": "zpWXMqkR8uXH"
      },
      "id": "zpWXMqkR8uXH"
    },
    {
      "cell_type": "code",
      "source": [
        "ax,fig=plt.subplots()\n",
        "plt.pie(perc_vestiti,labels=clothes['Category'],autopct='%1.1f%%')\n",
        "plt.show()\n",
        "perc_vestiti"
      ],
      "metadata": {
        "id": "ifenNcFw_BMg"
      },
      "id": "ifenNcFw_BMg",
      "execution_count": null,
      "outputs": []
    },
    {
      "cell_type": "code",
      "source": [
        "#ax,fig=plt.subplots()\n",
        "vestiti_mesi.plot(kind='bar')\n",
        "plt.show()"
      ],
      "metadata": {
        "id": "H2LFxbJPD0LK"
      },
      "id": "H2LFxbJPD0LK",
      "execution_count": null,
      "outputs": []
    },
    {
      "cell_type": "markdown",
      "source": [
        "I set e i kurta sono stati più venduti nel mese di aprile, di più i set e i set anche nel mese di maggio sono stati più venduti rispetto ai kurta, che invece sono stati più venduti durante il mese di giugno. I top e i western dress invece hanno avuto poche vendite rispetto ai set e ai kurta ma i western dress nel mese di maggio e giugno sono stati più venduti rispetto ai top."
      ],
      "metadata": {
        "id": "hAGnx7K-TaVn"
      },
      "id": "hAGnx7K-TaVn"
    },
    {
      "cell_type": "code",
      "source": [
        "\n",
        "taglie=pd.crosstab(df['Category'],[df['Size']]).reset_index()\n",
        "taglie.round(4)"
      ],
      "metadata": {
        "id": "86nlUZTQS34b"
      },
      "id": "86nlUZTQS34b",
      "execution_count": null,
      "outputs": []
    },
    {
      "cell_type": "code",
      "source": [
        "sns.barplot(taglie)"
      ],
      "metadata": {
        "id": "E6JFRHT1YS95"
      },
      "id": "E6JFRHT1YS95",
      "execution_count": null,
      "outputs": []
    },
    {
      "cell_type": "markdown",
      "source": [
        "La taglia più venduta è la M/L mentre quella meno venduta è la XS e la 3XL. Mentre le taglie oltre la 3XL sono vendute ancora più raramente e anche la taglia Free."
      ],
      "metadata": {
        "id": "UVPtKvj1am4L"
      },
      "id": "UVPtKvj1am4L"
    },
    {
      "cell_type": "markdown",
      "source": [
        "Spesa\n"
      ],
      "metadata": {
        "id": "WPFzuIraYWcm"
      },
      "id": "WPFzuIraYWcm"
    },
    {
      "cell_type": "code",
      "source": [
        "'Il prezzo massimo/minimo e medio sono:',df['Amount'].describe()[['max','min','mean']]\n",
        "prezzo=df.groupby('months')['Amount'].mean().reset_index()\n",
        "prezzo"
      ],
      "metadata": {
        "id": "_Dcx_kjObSx_"
      },
      "id": "_Dcx_kjObSx_",
      "execution_count": null,
      "outputs": []
    },
    {
      "cell_type": "code",
      "source": [
        "c=df.groupby('Category')['Amount'].value_counts().unstack()\n",
        "c.fillna(0).astype(int)"
      ],
      "metadata": {
        "id": "T0qg4pL8gZA0"
      },
      "id": "T0qg4pL8gZA0",
      "execution_count": null,
      "outputs": []
    },
    {
      "cell_type": "markdown",
      "source": [
        "In media i clienti spendono 648,56 dollari per acquistare la merce in totale. Il prezzo medio ad Marzo è stato 627, a Aprile 626 per poi aumentare a Maggio 663 e scendere leggermente a Giugno 661. Quindi in teoria i prezzi sono saliti tra Maggio e Giugno."
      ],
      "metadata": {
        "id": "xGcmvt1ocMA-"
      },
      "id": "xGcmvt1ocMA-"
    },
    {
      "cell_type": "markdown",
      "source": [
        "Notiamo però che la maggior parte degli acquisti di alcuni articoli sono costati 0.00 e questa è una cosa strana. Anche se notiamo che tra i kurta ben 44 siano stati venduti a 249.00 mentre 14 bottom a 229.00 e 7 blouse a 249.00 ma il resto è minore.\n",
        "Perchè la maggior parte degli articoli sono stati acquistati gratis?"
      ],
      "metadata": {
        "id": "Z0KrU5fkuP4x"
      },
      "id": "Z0KrU5fkuP4x"
    },
    {
      "cell_type": "code",
      "source": [
        "promozioni=df.groupby('promotion-ids')['Amount'].value_counts().reset_index()\n",
        "vestiti_promo=df.groupby('promotion-ids')[['Category','months']].value_counts()#.reset_index()#'amount' con category\n",
        "vestiti_promo_2=vestiti_promo.copy().reset_index()\n",
        "print(promozioni[promozioni['count']==promozioni['count'].max()])\n",
        "promo=df['promotion-ids'].value_counts()#.reset_index()\n",
        "#kurta=vestiti_promo[vestiti_promo['Category']=='kurta']\n",
        "#kurta[kurta['Amount']==0.0].sum()\n",
        "set(promozioni[promozioni['Amount']==0.0]['promotion-ids'].value_counts().reset_index()['promotion-ids'])\n",
        "#set(vestiti_promo['Sales Channel '])\n",
        "#perc_promo=promo['count']/promo['count'].sum()*100\n",
        "#promo_1=promo.copy()\n",
        "#promo_1['count']=perc_promo.round(2)\n",
        "#promo_1['count'][(promo_1['count']<57.75)&(promo_1['count']>0.0)].sum()\n",
        "\n",
        "#print(promo.sum())\n",
        "\n",
        "\n",
        "vestiti_promo.unstack().fillna(0).astype(int)\n",
        "\n",
        "\n"
      ],
      "metadata": {
        "id": "TThxBbh4yZcE"
      },
      "id": "TThxBbh4yZcE",
      "execution_count": null,
      "outputs": []
    },
    {
      "cell_type": "markdown",
      "source": [
        "La promozione più utilizzata è VPC-44571-44201853, usata per circa 46100 volte,quindi si tratta di spedizione gratuita (Il numero più alto di articoli acquistati con questa promozione (1754) è costato 399.0 ed in particolare 1687 sono i kurta acquistati 49877 volte (3,38% degli acquisti)).\n",
        "458 persone hanno invece utilizzato la promozione collegata alle carte platino, attraverso la quale amazon applica lo sconto sull'ordine permettendo però al venditore di ricevere il guadagno completo.\n",
        "Questa promozione invece è stata utilizzata per comprare i kurta a 0.0 (291 quindi 0.58%) ma è strano perchè dovrebbe trattarsi di una promozione applicabile solo ai vendito\n",
        "ri.\n",
        "In generale 781 articoli sono stati venduti per 0.0 (128975 articolo in totale quindi 0,61%) ed è dovuto a tre promozioni sia questa e due coupon che dovrebbero abbassare il prezzo ma non rendere l'articolo gratuito. Sono tutte promozioni provenienti da Amazon.\n",
        "In totale il 52% degli articoli sono stati comprati tramite la promozione IN Core Free Shipping 2015/04/08 23-48-5-108\n",
        "come avevamo già notato mentre lo 0,57% con la promozione free-fancing ed anche sullo 0 è la percentuale dei coupon duplicates.\n"
      ],
      "metadata": {
        "id": "SXhRiPuyd3qp"
      },
      "id": "SXhRiPuyd3qp"
    },
    {
      "cell_type": "code",
      "source": [
        "mask=vestiti_promo_2['promotion-ids'].str.contains('IN Core')\n",
        "in_core=vestiti_promo_2[['promotion-ids','count','Category','months']][mask==True]\n",
        "coupon=vestiti_promo_2[['promotion-ids','count','Category','months']][mask==False]\n",
        "coupon=coupon[['promotion-ids','count','Category','months']][coupon['promotion-ids'].str.contains('Amazon')==False]\n",
        "\n",
        "incore=in_core.groupby(['Category','months'])[['count','promotion-ids']].sum()\n",
        "\n",
        "coupon=coupon.groupby(['Category','promotion-ids','months'])[['count']].sum()\n",
        "\n",
        "amazon=vestiti_promo_2['promotion-ids'].str.contains('Amazon')\n",
        "amazon_1=vestiti_promo_2[['promotion-ids','count','Category','months']][amazon==True]\n",
        "amazon_2=amazon_1.groupby(['Category','months'])[['count','promotion-ids']].sum()\n",
        "\n",
        "\n",
        "\n",
        "\n",
        "\n",
        "sns.catplot(incore,kind='bar',x='Category',y='count')\n",
        "plt.xticks(rotation=90)\n",
        "plt.title('Clothes bought by IN Core promotion in April')\n",
        "plt.show()\n",
        "sns.catplot(amazon_2,kind='bar',x='Category',y='count')\n",
        "plt.title('Clothes bought by Amazon promotion in April')\n",
        "plt.xticks(rotation=90)\n",
        "plt.show()\n",
        "sns.catplot(coupon,kind='bar',x='Category',y='count',hue='promotion-ids',aspect=2,height=10)\n",
        "plt.xticks(rotation=90)\n",
        "plt.title('Clothes bought by other promotion in April')\n",
        "plt.show()\n",
        "\n",
        "coupon\n",
        "\n"
      ],
      "metadata": {
        "id": "b7Co4l9YKItR"
      },
      "id": "b7Co4l9YKItR",
      "execution_count": null,
      "outputs": []
    },
    {
      "cell_type": "markdown",
      "source": [
        "In aprile notiamo che le promozioni più usate per comprare (Western Dress) sono le promozioni duplicated. La promozione VCP invece è stata usata moderatamente per i western dress (spedizione gratuita) ma poco per quanto riguarda gli altri articoli come anche duplicated.\n",
        "Quella di Amazon di più su kurta e set e lo stesso la promozioni IN CORE.\n"
      ],
      "metadata": {
        "id": "xB3GNKokz5Td"
      },
      "id": "xB3GNKokz5Td"
    },
    {
      "cell_type": "markdown",
      "source": [
        "Perchè abbiamo quegli articoli venduti a 0.0?"
      ],
      "metadata": {
        "id": "SkZHPiNGMKLn"
      },
      "id": "SkZHPiNGMKLn"
    },
    {
      "cell_type": "code",
      "source": [
        "print(df['Amount'][df['Amount']==0.0].value_counts())\n",
        "articoli=df.groupby('Amount')[['months','year','Order ID','Status','promotion-ids','Courier Status']].value_counts().reset_index()\n",
        "nulli=articoli[['Amount','months','year','Status','Order ID','promotion-ids','Courier Status']][articoli['Amount']==0.0]\n",
        "count_ordini=nulli['months'].value_counts()\n",
        "print(count_ordini)\n",
        "lista_guadagno=[]\n",
        "for months in ['April','May','June']:\n",
        "    guadagno=df[['Amount','months']][df['months']==months]['Amount'].sum()\n",
        "    income=[months,guadagno]\n",
        "    lista_guadagno.append(income)\n",
        "\n",
        "\n",
        "df_guadagni=pd.DataFrame(lista_guadagno)\n",
        "df_guadagni\n",
        "\n",
        "print(nulli['promotion-ids'].value_counts().reset_index()[nulli['promotion-ids'].value_counts().reset_index()['promotion-ids'].str.contains('VPC')]['count'].sum())\n",
        "\n",
        "nulli['Order ID'].duplicated().value_counts() # non ci sono ordini gratis fatti dallo stesso cliente\n",
        "stato=nulli['Status'].value_counts()\n",
        "stato/stato.sum()*100\n",
        "stato.sum()\n",
        "\n",
        "nulli['Courier Status'].value_counts()\n",
        "\n",
        "df['Amount'][df['Amount']==0.0]\n"
      ],
      "metadata": {
        "id": "E1FNNWpLz7W0"
      },
      "id": "E1FNNWpLz7W0",
      "execution_count": null,
      "outputs": []
    },
    {
      "cell_type": "markdown",
      "source": [
        "Notiamo che nessuno di questi ordini senza pagamento è stato cancellato e che non ci sono ordini gratis dallo stesso cliente. Questi ordini gratis si sono avuti nel numero massimo ad Aprile mentre moderatamente a Giugno e poco meno a Maggio.\n",
        "Potrebbero anche essere valori anomali.Comunque ad Aprile si è guadagnato di più mentre a Maggio moderatamente e a Giugno ancora meno. Questi potrebbero essere il motivo di questo calo di fatturato tra Aprile e Giugno?\n",
        "Notiamo che la maggior parte di questi ordini è stato consegnato al cliente (87%) mentre 50 sono stati resi (6%), 5 sospesi (0.64%), 2 persi nel transito (0.25%) e 2 sono in fase di reso (in totale 57 di questi ordini sono nulli per questo motivo). Nessuno di loro si tratta di ordini cancellati ma 13 sono non spediti\n",
        "Invece la maggior parte ha utilizzato la promozione Amazon (779) mentre soltanto 2 VCP coupon.\n",
        "- 57 ordini nulli per reso,sospeso,perso nel transito e in fase di reso su 781 + 13 non spediti (in tutto 8,96%)\n",
        "- 779 comprati con la promozione Amazon (non sappiamo cosa comporti) su 781 99,74%\n",
        "- La maggior parte di loro si è avuta nel mese di Aprile\n",
        "- Potrebbe anche essere un errore, in quanto abbiamo 7795 valori nulli su 128975 incassi 6,54%\n",
        "- Sono 781 ordini nulli su 128975 ordini in totale (0,61%)\n"
      ],
      "metadata": {
        "id": "OOep5d-GPHR-"
      },
      "id": "OOep5d-GPHR-"
    },
    {
      "cell_type": "code",
      "source": [
        "\n",
        "\n",
        "sns.catplot(data=count_ordini,kind='bar')\n",
        "plt.title('Ordini nulli nei diversi mesi')\n",
        "plt.show()\n",
        "\n",
        "\n",
        "\n"
      ],
      "metadata": {
        "id": "HSojl6rqPU2Z"
      },
      "id": "HSojl6rqPU2Z",
      "execution_count": null,
      "outputs": []
    },
    {
      "cell_type": "markdown",
      "source": [
        "Valori anomali e nulli sulla colonna Amount?"
      ],
      "metadata": {
        "id": "KKL7Iwf9qgBb"
      },
      "id": "KKL7Iwf9qgBb"
    },
    {
      "cell_type": "code",
      "source": [
        "df['Amount'].describe()\n",
        "new_df=new_df.copy()\n",
        "new_df['Amount']=new_df['Amount'][new_df['Amount']!=0.0]\n",
        "new_df['Amount']"
      ],
      "metadata": {
        "id": "5IAzyiwYaZdt"
      },
      "id": "5IAzyiwYaZdt",
      "execution_count": null,
      "outputs": []
    },
    {
      "cell_type": "code",
      "source": [
        "df['Amount'][df['Amount'].isnull()==True]\n",
        "new_df=df.copy()\n",
        "new_df['Amount'].fillna(new_df['Amount'].median())\n",
        "new_df['Amount'].describe()"
      ],
      "metadata": {
        "id": "D5eKommOl8Gu"
      },
      "id": "D5eKommOl8Gu",
      "execution_count": null,
      "outputs": []
    },
    {
      "cell_type": "code",
      "source": [
        "#metodo interquartile\n",
        "q1=df['Amount'].quantile(0.25)\n",
        "q3=df['Amount'].quantile(0.75)\n",
        "irq=q3-q1\n",
        "upper=q3+(1.5*irq)\n",
        "lower=q1-(1.5*irq)\n",
        "new_df=df.loc[(df['Amount']<upper)&(df['Amount']>lower)]\n",
        "print('Valori tolti',len(df)-len(new_df))\n",
        "\n",
        "sns.boxplot(new_df['Amount'])\n",
        "new_df['Amount'].describe()"
      ],
      "metadata": {
        "id": "bhaI-_z4pmq-"
      },
      "id": "bhaI-_z4pmq-",
      "execution_count": null,
      "outputs": []
    },
    {
      "cell_type": "code",
      "source": [
        "new_df['Amount']\n",
        "xticks=['March','April','May']\n",
        "sns.catplot(data=new_df,x='months',y='Amount',order=xticks,kind='bar')\n",
        "plt.show()"
      ],
      "metadata": {
        "id": "_kINQKSXJWo_"
      },
      "id": "_kINQKSXJWo_",
      "execution_count": null,
      "outputs": []
    },
    {
      "cell_type": "code",
      "source": [],
      "metadata": {
        "id": "oExORhh-OQFp"
      },
      "id": "oExORhh-OQFp",
      "execution_count": null,
      "outputs": []
    }
  ],
  "metadata": {
    "kernelspec": {
      "display_name": "Python 3",
      "name": "python3"
    },
    "language_info": {
      "codemirror_mode": {
        "name": "ipython",
        "version": 2
      },
      "file_extension": ".py",
      "mimetype": "text/x-python",
      "name": "python",
      "nbconvert_exporter": "python",
      "pygments_lexer": "ipython2",
      "version": "2.7.6"
    },
    "colab": {
      "provenance": [],
      "gpuType": "T4",
      "name": "ecommerce-analysis.ipynb",
      "include_colab_link": true
    },
    "accelerator": "GPU"
  },
  "nbformat": 4,
  "nbformat_minor": 5
}