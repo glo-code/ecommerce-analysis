{
  "cells": [
    {
      "cell_type": "markdown",
      "metadata": {
        "id": "view-in-github",
        "colab_type": "text"
      },
      "source": [
        "<a href=\"https://colab.research.google.com/github/glo-code/ecommerce-analysis/blob/main/ecommerce_analysis.ipynb\" target=\"_parent\"><img src=\"https://colab.research.google.com/assets/colab-badge.svg\" alt=\"Open In Colab\"/></a>"
      ]
    },
    {
      "cell_type": "markdown",
      "source": [
        "# EDA"
      ],
      "metadata": {
        "id": "MKRoV01G5jXV"
      },
      "id": "MKRoV01G5jXV"
    },
    {
      "cell_type": "code",
      "source": [
        "import numpy as np\n",
        "import pandas as pd\n",
        "import seaborn as sns\n",
        "import matplotlib.pyplot as plt\n",
        "import json\n",
        "import datetime"
      ],
      "metadata": {
        "id": "oepHzmpzH7L6"
      },
      "id": "oepHzmpzH7L6",
      "execution_count": null,
      "outputs": []
    },
    {
      "cell_type": "code",
      "source": [
        "df=pd.read_csv('Amazon Sale Report.csv',parse_dates=True,on_bad_lines='skip',low_memory=False)\n",
        "df"
      ],
      "metadata": {
        "id": "L-i05uSOIl48"
      },
      "id": "L-i05uSOIl48",
      "execution_count": null,
      "outputs": []
    },
    {
      "cell_type": "markdown",
      "source": [
        "\n",
        "\n",
        "```\n",
        "Indagine sui clienti\n",
        "\n",
        "\n",
        "```\n",
        "\n"
      ],
      "metadata": {
        "id": "AowR852vKrsK"
      },
      "id": "AowR852vKrsK"
    },
    {
      "cell_type": "markdown",
      "source": [
        "Ordine ID e Status"
      ],
      "metadata": {
        "id": "ueUtIOpafGSy"
      },
      "id": "ueUtIOpafGSy"
    },
    {
      "cell_type": "code",
      "source": [
        "data=pd.to_datetime(df['Date'])\n",
        "df['months']=data.dt.month_name()\n",
        "df['year']=data.dt.year\n",
        "df['day']=data.dt.day\n",
        "\n",
        "\n",
        "group=df.groupby(['day','months','year'])[['Order ID','Status']].value_counts().reset_index()\n",
        "mask=np.where(group['count']<group['count'].max())[0]\n",
        "print('Order less than max:',group['count'].iloc[mask].sum(),'in the day:',group.iloc[mask])\n",
        "mask2=group['count'][group['count']==group['count'].max()]\n",
        "'Order == max:',mask2.value_counts(),'in the day:',group.iloc[mask2.index]\n"
      ],
      "metadata": {
        "id": "s4mXKRfhKHlz"
      },
      "id": "s4mXKRfhKHlz",
      "execution_count": null,
      "outputs": []
    },
    {
      "cell_type": "markdown",
      "source": [
        "Notiamo che il massimo di ordini da parte di un cliente è di 12 mentre il minimo è 1.Il massimo di ordini si è verificato sia ad aprile che a maggio, soltanto che a maggio si è trattato non di ordini spediti ma cancellati dallo stesso cliente.\n",
        "Abbiamo invece contro i 2 ordini più alti, 91354 ordini minimi da più clienti.\n"
      ],
      "metadata": {
        "id": "z1axwfLyHAv_"
      },
      "id": "z1axwfLyHAv_"
    },
    {
      "cell_type": "code",
      "source": [
        "count=group.groupby('months')['Status'].value_counts().unstack()\n",
        "count=count.fillna(0).astype(int)\n",
        "count"
      ],
      "metadata": {
        "id": "NZfSmuZnsGpq"
      },
      "id": "NZfSmuZnsGpq",
      "execution_count": null,
      "outputs": []
    },
    {
      "cell_type": "code",
      "source": [
        "perc_precise=count/count.sum()*100\n",
        "perc_precise.round(2).reset_index()\n",
        "\n",
        "\n",
        "labels=set(df['Status'])\n",
        "\n",
        "conteggio=0\n",
        "for categorie in perc_precise:\n",
        "    categorie=perc_precise.iloc[conteggio]\n",
        "    print(categorie.name)\n",
        "    ax,fig=plt.subplots()\n",
        "    plt.pie(categorie,labels=labels,autopct='%1.1f%%')\n",
        "    conteggio=conteggio+1\n",
        "    if conteggio==len(perc_precise.index):\n",
        "       break\n"
      ],
      "metadata": {
        "id": "y9EvERgcV53h"
      },
      "id": "y9EvERgcV53h",
      "execution_count": null,
      "outputs": []
    },
    {
      "cell_type": "code",
      "source": [
        "lista_mesi=['June','May','April','March']\n",
        "ordini_totali=[]\n",
        "for mese in lista_mesi:\n",
        "    result=group['count'][group['months']==mese].sum()\n",
        "    ordini_totali.append(result)\n",
        "\n",
        "ordini_totali=pd.Series(ordini_totali)\n",
        "print('Ordini per mese',ordini_totali)\n",
        "print('Ordini totali',ordini_totali.sum())\n",
        "perc=ordini_totali/ordini_totali.sum()*100\n",
        "perc=perc.round(2)\n",
        "\n",
        "ax,fig=plt.subplots()\n",
        "plt.pie(perc,labels=lista_mesi,autopct='%1.1f%%')\n",
        "plt.show()\n",
        "\n"
      ],
      "metadata": {
        "id": "JtqKmEb7I3hn"
      },
      "id": "JtqKmEb7I3hn",
      "execution_count": null,
      "outputs": []
    },
    {
      "cell_type": "markdown",
      "source": [
        "Notiamo che ad Aprile abbiamo il maggior numero di ordini spediti (17.8%) e cancellati (15,5%). Abbiamo anche un modesto numero di ordini ritornati al venditore e in sospeso(16%). A giugno invece alto numero di ordini spediti ma anche cancellati anche se sono di meno rispetto ad aprile. Pochi però i resi e molti sospesi. A marzo nessun ordine sospeso e pochi cancellati ma ben il 44% degli ordini persi nel transito e 27% cancellati rispetto al 15,5% di aprile. E' il mese in cui si hanno avuti meno ordini. A maggio la maggior parte spediti e cancellati ed un numero moderato minore rispetto ad aprile di resi (21.6% rispetto al 16% di aprile). Pochi sospesi (18% rispetto ad aprile) e il 17% di persi nel transito e cancellati.\n",
        "\n",
        "Quindi si è venduto di più tra aprile e maggio (47% e 40%) e modertamente a giugno (12%) e di meno a marzo (0.2%).\n",
        "\n"
      ],
      "metadata": {
        "id": "CNn9aBs4NcXs"
      },
      "id": "CNn9aBs4NcXs"
    },
    {
      "cell_type": "code",
      "source": [
        "total=df['Status'].value_counts().sum()\n",
        "status=df['Status'].value_counts().apply(lambda x:x/total*100).round(2).reset_index()\n",
        "#status=status[status['count']!=0.0]\n",
        "value=status['count']\n",
        "fig,ax=plt.subplots()\n",
        "labels=status['Status']\n",
        "plt.pie(value,labels=labels,autopct='%1.1f%%')#,startangle=90,shadow=True,labeldistance=0.80,pctdistance=0.5)\n",
        "status"
      ],
      "metadata": {
        "id": "3G8rZynzvNw7"
      },
      "id": "3G8rZynzvNw7",
      "execution_count": null,
      "outputs": []
    },
    {
      "cell_type": "markdown",
      "source": [
        "Notiamo che la maggior parte degli ordini nei mesi indicati, sono stati spediti (circa il 58,8%) mentre il 25 % è stato spedito e consegnato al compratore. Il 14% invece è stato cancellato mentre soltanto 1.8% degli ordini è stato mandato indietro.\n",
        "Soltanto per il 0,2% invece è stato effettuato il reso ma ancora l'ordine non è ritornato al venditore.\n",
        "\n"
      ],
      "metadata": {
        "id": "t_bq_eMhFpyx"
      },
      "id": "t_bq_eMhFpyx"
    },
    {
      "cell_type": "code",
      "source": [
        "\n",
        "sns.catplot(group,x=group['months'],y=group['count'],kind='bar',hue='Status')\n",
        "plt.show()\n",
        "group"
      ],
      "metadata": {
        "id": "K58hbVwvylqf"
      },
      "id": "K58hbVwvylqf",
      "execution_count": null,
      "outputs": []
    },
    {
      "cell_type": "markdown",
      "source": [
        "Tipo di prodotto acquistato\n"
      ],
      "metadata": {
        "id": "YO3F1Nd5fL1C"
      },
      "id": "YO3F1Nd5fL1C"
    },
    {
      "cell_type": "code",
      "source": [
        "clothes=df['Category'].value_counts().reset_index()\n",
        "perc_vestiti=clothes['count']/clothes['count'].sum()*100\n",
        "vestiti_mesi=df.groupby('Category')['months'].value_counts().unstack()\n",
        "vestiti_mesi.fillna(0).astype(int)\n",
        "clothes.sum()"
      ],
      "metadata": {
        "id": "b8tK1M6pfPcF"
      },
      "id": "b8tK1M6pfPcF",
      "execution_count": null,
      "outputs": []
    },
    {
      "cell_type": "code",
      "source": [
        "sns.barplot(clothes,x='Category',y='count')\n",
        "plt.xticks(rotation=90)\n",
        "plt.show()"
      ],
      "metadata": {
        "id": "AP9jQKqxgFWU"
      },
      "id": "AP9jQKqxgFWU",
      "execution_count": null,
      "outputs": []
    },
    {
      "cell_type": "markdown",
      "source": [
        "Notiamo che i prodotti più acquistati in assoluto sono i set e la kurta e moderatamente il western dress e top. I prodotti meno acquistati sono ethnic dress, blouse, bottom e saree e ancora meno (soltanto 3 acquisti) il dupatta.\n",
        "Dalle percentuali notiamo che il 39% acquista il set e il 38% il kurta mentre il 12% il western dress e soltanto l'8.2% il top."
      ],
      "metadata": {
        "id": "zpWXMqkR8uXH"
      },
      "id": "zpWXMqkR8uXH"
    },
    {
      "cell_type": "code",
      "source": [
        "ax,fig=plt.subplots()\n",
        "plt.pie(perc_vestiti,labels=clothes['Category'],autopct='%1.1f%%')\n",
        "plt.show()\n",
        "perc_vestiti"
      ],
      "metadata": {
        "id": "ifenNcFw_BMg"
      },
      "id": "ifenNcFw_BMg",
      "execution_count": null,
      "outputs": []
    },
    {
      "cell_type": "code",
      "source": [
        "#ax,fig=plt.subplots()\n",
        "vestiti_mesi.plot(kind='bar')\n",
        "plt.show()"
      ],
      "metadata": {
        "id": "H2LFxbJPD0LK"
      },
      "id": "H2LFxbJPD0LK",
      "execution_count": null,
      "outputs": []
    },
    {
      "cell_type": "markdown",
      "source": [
        "I set e i kurta sono stati più venduti nel mese di aprile, di più i set e i set anche nel mese di maggio sono stati più venduti rispetto ai kurta, che invece sono stati più venduti durante il mese di giugno. I top e i western dress invece hanno avuto poche vendite rispetto ai set e ai kurta ma i western dress nel mese di maggio e giugno sono stati più venduti rispetto ai top."
      ],
      "metadata": {
        "id": "hAGnx7K-TaVn"
      },
      "id": "hAGnx7K-TaVn"
    },
    {
      "cell_type": "code",
      "source": [
        "\n",
        "taglie=pd.crosstab(df['Category'],[df['Size']]).reset_index()\n",
        "taglie.round(4)"
      ],
      "metadata": {
        "id": "86nlUZTQS34b"
      },
      "id": "86nlUZTQS34b",
      "execution_count": null,
      "outputs": []
    },
    {
      "cell_type": "code",
      "source": [
        "sns.barplot(taglie)"
      ],
      "metadata": {
        "id": "E6JFRHT1YS95"
      },
      "id": "E6JFRHT1YS95",
      "execution_count": null,
      "outputs": []
    },
    {
      "cell_type": "markdown",
      "source": [
        "La taglia più venduta è la M/L mentre quella meno venduta è la XS e la 3XL. Mentre le taglie oltre la 3XL sono vendute ancora più raramente e anche la taglia Free."
      ],
      "metadata": {
        "id": "UVPtKvj1am4L"
      },
      "id": "UVPtKvj1am4L"
    },
    {
      "cell_type": "markdown",
      "source": [
        "Spesa\n"
      ],
      "metadata": {
        "id": "WPFzuIraYWcm"
      },
      "id": "WPFzuIraYWcm"
    },
    {
      "cell_type": "code",
      "source": [
        "'Il prezzo massimo/minimo e medio sono:',df['Amount'].describe()[['max','min','mean']]\n",
        "prezzo=df.groupby('months')['Amount'].mean().reset_index()\n",
        "prezzo"
      ],
      "metadata": {
        "id": "_Dcx_kjObSx_"
      },
      "id": "_Dcx_kjObSx_",
      "execution_count": null,
      "outputs": []
    },
    {
      "cell_type": "code",
      "source": [
        "c=df.groupby('Category')['Amount'].value_counts().unstack()\n",
        "c.fillna(0).astype(int)"
      ],
      "metadata": {
        "id": "T0qg4pL8gZA0"
      },
      "id": "T0qg4pL8gZA0",
      "execution_count": null,
      "outputs": []
    },
    {
      "cell_type": "markdown",
      "source": [
        "In media i clienti spendono 648,56 dollari per acquistare la merce in totale. Il prezzo medio ad Marzo è stato 627, a Aprile 626 per poi aumentare a Maggio 663 e scendere leggermente a Giugno 661. Quindi in teoria i prezzi sono saliti tra Maggio e Giugno."
      ],
      "metadata": {
        "id": "xGcmvt1ocMA-"
      },
      "id": "xGcmvt1ocMA-"
    },
    {
      "cell_type": "markdown",
      "source": [
        "Notiamo però che la maggior parte degli acquisti di alcuni articoli sono costati 0.00 e questa è una cosa strana. Anche se notiamo che tra i kurta ben 44 siano stati venduti a 249.00 mentre 14 bottom a 229.00 e 7 blouse a 249.00 ma il resto è minore.\n",
        "Perchè la maggior parte degli articoli sono stati acquistati gratis?"
      ],
      "metadata": {
        "id": "Z0KrU5fkuP4x"
      },
      "id": "Z0KrU5fkuP4x"
    },
    {
      "cell_type": "code",
      "source": [
        "promozioni=df.groupby('promotion-ids')['Amount'].value_counts().reset_index()\n",
        "vestiti_promo=df.groupby('promotion-ids')[['Category','months']].value_counts()#.reset_index()#'amount' con category\n",
        "vestiti_promo_2=vestiti_promo.copy().reset_index()\n",
        "print(promozioni[promozioni['count']==promozioni['count'].max()])\n",
        "promo=df['promotion-ids'].value_counts()#.reset_index()\n",
        "#kurta=vestiti_promo[vestiti_promo['Category']=='kurta']\n",
        "#kurta[kurta['Amount']==0.0].sum()\n",
        "set(promozioni[promozioni['Amount']==0.0]['promotion-ids'].value_counts().reset_index()['promotion-ids'])\n",
        "#set(vestiti_promo['Sales Channel '])\n",
        "#perc_promo=promo['count']/promo['count'].sum()*100\n",
        "#promo_1=promo.copy()\n",
        "#promo_1['count']=perc_promo.round(2)\n",
        "#promo_1['count'][(promo_1['count']<57.75)&(promo_1['count']>0.0)].sum()\n",
        "\n",
        "#print(promo.sum())\n",
        "\n",
        "\n",
        "vestiti_promo.unstack().fillna(0).astype(int)\n",
        "\n",
        "\n"
      ],
      "metadata": {
        "id": "TThxBbh4yZcE"
      },
      "id": "TThxBbh4yZcE",
      "execution_count": null,
      "outputs": []
    },
    {
      "cell_type": "markdown",
      "source": [
        "La promozione più utilizzata è VPC-44571-44201853, usata per circa 46100 volte,quindi si tratta di spedizione gratuita (Il numero più alto di articoli acquistati con questa promozione (1754) è costato 399.0 ed in particolare 1687 sono i kurta acquistati 49877 volte (3,38% degli acquisti)).\n",
        "458 persone hanno invece utilizzato la promozione collegata alle carte platino, attraverso la quale amazon applica lo sconto sull'ordine permettendo però al venditore di ricevere il guadagno completo.\n",
        "Questa promozione invece è stata utilizzata per comprare i kurta a 0.0 (291 quindi 0.58%) ma è strano perchè dovrebbe trattarsi di una promozione applicabile solo ai vendito\n",
        "ri.\n",
        "In generale 781 articoli sono stati venduti per 0.0 (128975 articolo in totale quindi 0,61%) ed è dovuto a tre promozioni sia questa e due coupon che dovrebbero abbassare il prezzo ma non rendere l'articolo gratuito. Sono tutte promozioni provenienti da Amazon.\n",
        "In totale il 52% degli articoli sono stati comprati tramite la promozione IN Core Free Shipping 2015/04/08 23-48-5-108\n",
        "come avevamo già notato mentre lo 0,57% con la promozione free-fancing ed anche sullo 0 è la percentuale dei coupon duplicates.\n"
      ],
      "metadata": {
        "id": "SXhRiPuyd3qp"
      },
      "id": "SXhRiPuyd3qp"
    },
    {
      "cell_type": "code",
      "source": [
        "mask=vestiti_promo_2['promotion-ids'].str.contains('IN Core')\n",
        "in_core=vestiti_promo_2[['promotion-ids','count','Category','months']][mask==True]\n",
        "coupon=vestiti_promo_2[['promotion-ids','count','Category','months']][mask==False]\n",
        "coupon=coupon[['promotion-ids','count','Category','months']][coupon['promotion-ids'].str.contains('Amazon')==False]\n",
        "\n",
        "incore=in_core.groupby(['Category','months'])[['count','promotion-ids']].sum()\n",
        "\n",
        "coupon=coupon.groupby(['Category','promotion-ids','months'])[['count']].sum()\n",
        "\n",
        "amazon=vestiti_promo_2['promotion-ids'].str.contains('Amazon')\n",
        "amazon_1=vestiti_promo_2[['promotion-ids','count','Category','months']][amazon==True]\n",
        "amazon_2=amazon_1.groupby(['Category','months'])[['count','promotion-ids']].sum()\n",
        "\n",
        "\n",
        "\n",
        "\n",
        "\n",
        "sns.catplot(incore,kind='bar',x='Category',y='count')\n",
        "plt.xticks(rotation=90)\n",
        "plt.title('Clothes bought by IN Core promotion in April')\n",
        "plt.show()\n",
        "sns.catplot(amazon_2,kind='bar',x='Category',y='count')\n",
        "plt.title('Clothes bought by Amazon promotion in April')\n",
        "plt.xticks(rotation=90)\n",
        "plt.show()\n",
        "sns.catplot(coupon,kind='bar',x='Category',y='count',hue='promotion-ids',aspect=2,height=10)\n",
        "plt.xticks(rotation=90)\n",
        "plt.title('Clothes bought by other promotion in April')\n",
        "plt.show()\n",
        "\n",
        "coupon\n",
        "\n"
      ],
      "metadata": {
        "id": "b7Co4l9YKItR"
      },
      "id": "b7Co4l9YKItR",
      "execution_count": null,
      "outputs": []
    },
    {
      "cell_type": "markdown",
      "source": [
        "In aprile notiamo che le promozioni più usate per comprare (Western Dress) sono le promozioni duplicated. La promozione VCP invece è stata usata moderatamente per i western dress (spedizione gratuita) ma poco per quanto riguarda gli altri articoli come anche duplicated.\n",
        "Quella di Amazon di più su kurta e set e lo stesso la promozioni IN CORE.\n"
      ],
      "metadata": {
        "id": "xB3GNKokz5Td"
      },
      "id": "xB3GNKokz5Td"
    },
    {
      "cell_type": "markdown",
      "source": [
        "Perchè abbiamo quegli articoli venduti a 0.0?"
      ],
      "metadata": {
        "id": "SkZHPiNGMKLn"
      },
      "id": "SkZHPiNGMKLn"
    },
    {
      "cell_type": "code",
      "source": [
        "print(df['Amount'][df['Amount']==0.0].value_counts())\n",
        "articoli=df.groupby('Amount')[['months','year','Order ID','Status','promotion-ids','Courier Status']].value_counts().reset_index()\n",
        "nulli=articoli[['Amount','months','year','Status','Order ID','promotion-ids','Courier Status']][articoli['Amount']==0.0]\n",
        "count_ordini=nulli['months'].value_counts()\n",
        "print(count_ordini)\n",
        "lista_guadagno=[]\n",
        "for months in ['April','May','June']:\n",
        "    guadagno=df[['Amount','months']][df['months']==months]['Amount'].sum()\n",
        "    income=[months,guadagno]\n",
        "    lista_guadagno.append(income)\n",
        "\n",
        "\n",
        "df_guadagni=pd.DataFrame(lista_guadagno)\n",
        "df_guadagni\n",
        "\n",
        "print(nulli['promotion-ids'].value_counts().reset_index()[nulli['promotion-ids'].value_counts().reset_index()['promotion-ids'].str.contains('VPC')]['count'].sum())\n",
        "\n",
        "nulli['Order ID'].duplicated().value_counts() # non ci sono ordini gratis fatti dallo stesso cliente\n",
        "stato=nulli['Status'].value_counts()\n",
        "stato/stato.sum()*100\n",
        "stato.sum()\n",
        "\n",
        "nulli['Courier Status'].value_counts()\n",
        "\n",
        "df['Amount'][df['Amount']==0.0]\n"
      ],
      "metadata": {
        "id": "E1FNNWpLz7W0"
      },
      "id": "E1FNNWpLz7W0",
      "execution_count": null,
      "outputs": []
    },
    {
      "cell_type": "markdown",
      "source": [
        "Notiamo che nessuno di questi ordini senza pagamento è stato cancellato e che non ci sono ordini gratis dallo stesso cliente. Questi ordini gratis si sono avuti nel numero massimo ad Aprile mentre moderatamente a Giugno e poco meno a Maggio.\n",
        "Potrebbero anche essere valori anomali.Comunque ad Aprile si è guadagnato di più mentre a Maggio moderatamente e a Giugno ancora meno. Questi potrebbero essere il motivo di questo calo di fatturato tra Aprile e Giugno?\n",
        "Notiamo che la maggior parte di questi ordini è stato consegnato al cliente (87%) mentre 50 sono stati resi (6%), 5 sospesi (0.64%), 2 persi nel transito (0.25%) e 2 sono in fase di reso (in totale 57 di questi ordini sono nulli per questo motivo). Nessuno di loro si tratta di ordini cancellati ma 13 sono non spediti\n",
        "Invece la maggior parte ha utilizzato la promozione Amazon (779) mentre soltanto 2 VCP coupon.\n",
        "- 57 ordini nulli per reso,sospeso,perso nel transito e in fase di reso su 781 + 13 non spediti (in tutto 8,96%)\n",
        "- 779 comprati con la promozione Amazon (non sappiamo cosa comporti) su 781 99,74%\n",
        "- La maggior parte di loro si è avuta nel mese di Aprile\n",
        "- Potrebbe anche essere un errore, in quanto abbiamo 7795 valori nulli su 128975 incassi 6,54%\n",
        "- Sono 781 ordini nulli su 128975 ordini in totale (0,61%)\n"
      ],
      "metadata": {
        "id": "OOep5d-GPHR-"
      },
      "id": "OOep5d-GPHR-"
    },
    {
      "cell_type": "code",
      "source": [
        "\n",
        "\n",
        "sns.catplot(data=count_ordini,kind='bar')\n",
        "plt.title('Ordini nulli nei diversi mesi')\n",
        "plt.show()\n",
        "\n",
        "\n",
        "\n"
      ],
      "metadata": {
        "id": "HSojl6rqPU2Z"
      },
      "id": "HSojl6rqPU2Z",
      "execution_count": null,
      "outputs": []
    },
    {
      "cell_type": "markdown",
      "source": [
        "Valori anomali e nulli sulla colonna Amount?"
      ],
      "metadata": {
        "id": "KKL7Iwf9qgBb"
      },
      "id": "KKL7Iwf9qgBb"
    },
    {
      "cell_type": "code",
      "source": [
        "df['Amount'].describe()\n",
        "new_df=df.copy()\n",
        "#new_df['Amount']=new_df['Amount'][new_df['Amount']!=0.0]\n",
        "new_df['Amount']"
      ],
      "metadata": {
        "id": "5IAzyiwYaZdt"
      },
      "id": "5IAzyiwYaZdt",
      "execution_count": null,
      "outputs": []
    },
    {
      "cell_type": "code",
      "source": [
        "df['Amount'][df['Amount'].isnull()==True]\n",
        "#new_df['Amount'].fillna(new_df['Amount'].median())\n",
        "new_df['Amount'].describe()"
      ],
      "metadata": {
        "id": "D5eKommOl8Gu"
      },
      "id": "D5eKommOl8Gu",
      "execution_count": null,
      "outputs": []
    },
    {
      "cell_type": "code",
      "source": [
        "#metodo percentili\n",
        "sup=df['Amount'].quantile(0.99)\n",
        "inf=df['Amount'].quantile(0.01)\n",
        "out=df['Amount'].loc[(df['Amount']>sup)&(df['Amount']<inf)]\n",
        "out"
      ],
      "metadata": {
        "id": "HmCBm-6sswB0"
      },
      "id": "HmCBm-6sswB0",
      "execution_count": null,
      "outputs": []
    },
    {
      "cell_type": "code",
      "source": [
        "#metodo zscore\n",
        "superiore=df['Amount']+3*df['Amount'].std()\n",
        "inferiore=df['Amount']-3*df['Amount'].std()\n",
        "outliers=df['Amount'].loc[(df['Amount']>superiore)&(df['Amount']<inferiore)]\n",
        "print(outliers)"
      ],
      "metadata": {
        "id": "ApzxBbgqrn_O"
      },
      "id": "ApzxBbgqrn_O",
      "execution_count": null,
      "outputs": []
    },
    {
      "cell_type": "code",
      "source": [
        "index=np.where(new_df['Amount']==0.0)[0]\n",
        "new_df['free_order']=new_df['Amount'].iloc[index]\n",
        "new_df['free_order']=new_df['free_order'].fillna('Order not null')\n",
        "new_df['free_order']=new_df['free_order'].apply(lambda f:f if f!=0.0 else 'Order null')\n",
        "count=new_df['free_order'].iloc[index].value_counts().sum()\n",
        "\n",
        "#new_df['Amount']=new_df['Amount'][new_df['Amount']!=0.0]\n",
        "print(new_df['free_order'],count,len(df['Amount']),len(new_df['Amount']))"
      ],
      "metadata": {
        "id": "a6K2vAiQEC8d"
      },
      "id": "a6K2vAiQEC8d",
      "execution_count": null,
      "outputs": []
    },
    {
      "cell_type": "code",
      "source": [
        "#metodo interquartile\n",
        "q1=df['Amount'].quantile(0.25)\n",
        "q3=df['Amount'].quantile(0.75)\n",
        "irq=q3-q1\n",
        "upper=q3+(1.5*irq)\n",
        "lower=q1-(1.5*irq)\n",
        "new_df=df.loc[(df['Amount']<upper)&(df['Amount']>lower)]\n",
        "indice=np.array(df['Amount'][(df['Amount']>upper)&(df['Amount']>lower)].reset_index()['index'])\n",
        "num=len(indice)\n",
        "out=df[['Category','months']].iloc[indice].value_counts()\n",
        "out1=df['months'].iloc[indice].value_counts()\n",
        "out2=df['Order ID'].iloc[indice].value_counts()\n",
        "print(out,out1,out2)\n",
        "new_df=df.loc[(df['Amount']<upper)&(df['Amount']>lower)]\n",
        "print('Valori tolti al di sopra del limite superiore',indice)\n",
        "print('Numero valori anomali',num,'Lunghezza nuova colonna',len(df['Amount'])-len(new_df['Amount']))\n",
        "\n",
        "\n",
        "fig,ax=plt.subplots(2,1,figsize=(8,9))\n",
        "ax[1].boxplot(new_df['Amount'])\n",
        "ax[0].boxplot(df['Amount'])\n",
        "plt.plot()\n",
        "\n",
        "\n",
        "fig,ax=plt.subplots(2,1,figsize=(8,9))\n",
        "ax[1].hist(new_df['Amount'],bins=50)\n",
        "ax[1].set_title('After remove outliers')\n",
        "ax[0].hist(df['Amount'],bins=50)\n",
        "ax[0].set_title('Before remove outliers')\n",
        "plt.show()\n",
        "print('Before',df['Amount'].describe())\n",
        "print('After',new_df['Amount'].describe())\n",
        "print('Asimmetria',(df['Amount'].skew(),new_df['Amount'].skew()),'Curtosi',(df['Amount'].kurt(),new_df['Amount'].kurt()))"
      ],
      "metadata": {
        "id": "bhaI-_z4pmq-"
      },
      "id": "bhaI-_z4pmq-",
      "execution_count": null,
      "outputs": []
    },
    {
      "cell_type": "code",
      "source": [
        "guadagno=new_df.groupby('months')['Amount'].sum().reset_index()\n",
        "guadagno_prima=df.groupby('months')['Amount'].sum().reset_index()\n",
        "print(guadagno)\n",
        "print(guadagno_prima)\n",
        "somma2=new_df['Amount'].sum()\n",
        "somma1=df['Amount'].sum()\n",
        "print(somma1,somma2)\n"
      ],
      "metadata": {
        "id": "fmbDl7-RHF-R"
      },
      "id": "fmbDl7-RHF-R",
      "execution_count": null,
      "outputs": []
    },
    {
      "cell_type": "markdown",
      "source": [
        "\n",
        "- I valori anomali abbassano il guadagno mentre gli ordini gratis non hanno un uguale impatto, anzi lasciano il guadagno invariato (vedremo poi la correlazione).\n",
        "\n",
        "- Il numero dei valori anomali identificati dall'intervallo interquartile è 3600 su 117580 (3,06%).\n",
        "Dall'istogramma si nota chiaramente che con i valori anomali l'intervallo dei dati era compreso tra 0 e 16000 (i valori erano maggiormente compresi prima di 1000 e calavano dopo 1000 fino a scomparire prima di 2000 (max 5584)) mentre senza è un intervallo più piccolo tra 0 e 5000 (maggiormente compresi tra da metà 200 a 800 per poi calare fino a 1200 (max 1299)).\n",
        "La distribuzione in entrambi casi è poco asimmetrica ma nel primo caso la curtosi, quindi la concentrazione dei dati intorno alla media era maggiore mentre nel secondo caso questa togliendo i valori anomali è stata ridotta molto.\n",
        "I dati sembrano distribuiti più ampiamente.\n",
        "\n",
        "\n",
        "- Si è venduto di meno a marzo, picco basso in assoluto, e giugno quindi ai cambiamenti di stagione.\n",
        "\n",
        "- I valori anomali si concentrano sul guadagno relativo al set (3487) mentre 50 su Western Dress, 34 kurta e 19 Ethic dress e questo vuol dire che i prezzi del set sono forse la maggiore causa dei valori anomali e il fatturato ha presentato maggiori valori anomali tra maggio e giugno e moderatamente ad aprile.\n",
        "Il più alto numero di ordini con valori anomali si è avuto a Giugno dallo stesso cliente (4) ed infatti a Giugno si è avuto un calo delle vendite.\n",
        "Anche a Maggio calo delle vendite ed è il mese in i set con valori anomali sono stati più acquistati."
      ],
      "metadata": {
        "id": "5viIBSovJTMS"
      },
      "id": "5viIBSovJTMS"
    },
    {
      "cell_type": "code",
      "source": [
        "mes=['March','April','May','June']\n",
        "sns.relplot(data=new_df,x='months',y='Amount',kind='line')\n",
        "plt.show()"
      ],
      "metadata": {
        "id": "mQMILUoyGcVN"
      },
      "id": "mQMILUoyGcVN",
      "execution_count": null,
      "outputs": []
    },
    {
      "cell_type": "markdown",
      "source": [
        "Shop da cui i clienti acquistano"
      ],
      "metadata": {
        "id": "TxnVy3ZwbTI4"
      },
      "id": "TxnVy3ZwbTI4"
    },
    {
      "cell_type": "code",
      "source": [
        "\n",
        "channel=new_df[['Fulfilment','fulfilled-by','Sales Channel ','ship-service-level']].apply(lambda x:x.value_counts()).fillna(0).astype(int)\n",
        "perc_channel=channel/channel.sum()*100\n",
        "perc_channel.round(1)\n"
      ],
      "metadata": {
        "id": "oRLYiItsrlFj"
      },
      "id": "oRLYiItsrlFj",
      "execution_count": null,
      "outputs": []
    },
    {
      "cell_type": "code",
      "source": [
        "new_df[['ship-service-level','fulfilled-by']][(new_df['ship-service-level']=='Standard')|(new_df['fulfilled-by'].isin(['Easy Ship','Merchant']))].value_counts()"
      ],
      "metadata": {
        "id": "DPsmQ738sfYh"
      },
      "id": "DPsmQ738sfYh",
      "execution_count": null,
      "outputs": []
    },
    {
      "cell_type": "markdown",
      "source": [
        "- I clienti hanno comprato su Amazon (117580) e la maggior parte ha beneficiato della spedizione espressa (68%,80167) rispetto a quella standard (31%,915).\n",
        "\n",
        "- I fornitori principali sono: al primo posto Amazon seguito da Merchant e Easy Ship (in ugual numero) (69% per Amazon e 31% per gli altri due).\n",
        "\n",
        "- Il tipo di spedizione dipende anche dal tipo di fornitore.\n",
        "La spedizione standard invece è stata utlizzata di più su Merchant che su Amazon (Merchant è uno strumento per far comparire la propria merce sulla barra di ricerca google da cui i clienti possono acquistare più facilmente e che promuove\n",
        "la merce).\n",
        "Lo stesso numero di persone ha utilizzato quella standard su Easy Ship.\n",
        "Quindi Amazon ha il primato sulla spedizione espressa.\n"
      ],
      "metadata": {
        "id": "A7SoqkEopjKB"
      },
      "id": "A7SoqkEopjKB"
    },
    {
      "cell_type": "code",
      "source": [
        "\n",
        "provenienza=new_df['ship-city'].value_counts().reset_index()\n",
        "stato=new_df['ship-state'].value_counts().reset_index()\n",
        "stato_max=stato.iloc[stato['count'].nlargest(11).index].reset_index()\n",
        "provenienza_max=provenienza.apply(lambda max:max.sort_values(ascending=True))\n",
        "primi_dieci=provenienza_max.iloc[0:11]\n",
        "perc_city=primi_dieci['count']/provenienza['count'].sum()*100\n",
        "perc_city_1=[c for c in primi_dieci['ship-city'].to_list()]+[''.join(str(numb))+'%' for numb in perc_city.round(2).to_list()]\n",
        "perc_stato=stato_max['count']/stato['count'].sum()*100\n",
        "perc_stato_1=[s for s in stato_max['ship-state']]+[''.join(str(state))+'%' for state in perc_stato.round(2).to_list()]\n",
        "\n",
        "fig,ax=plt.subplots(2,1,figsize=(8,15))\n",
        "ax[0].bar(primi_dieci['ship-city'],primi_dieci['count'])\n",
        "ax[0].tick_params(axis='x',labelrotation=90)\n",
        "#ax[0].set_xticklabels(labels=perc_city_1)\n",
        "ax[0].set_title('Top Ten city')\n",
        "ax[1].bar(stato_max['ship-state'],stato_max['count'])\n",
        "ax[1].set_title('Top Ten state')\n",
        "ax[1].tick_params(axis='x',labelrotation=90)\n",
        "#ax[1].set_xticklabels(labels=perc_stato_1)\n",
        "plt.show()\n",
        "\n",
        "print(perc_city_1)\n",
        "perc_stato_1\n"
      ],
      "metadata": {
        "id": "1qCZFjiJMFzA"
      },
      "id": "1qCZFjiJMFzA",
      "execution_count": null,
      "outputs": []
    },
    {
      "cell_type": "markdown",
      "source": [
        "- Il più alto numero di clienti proviene dalla città di Bengaluru e lo stato di Maharashtra e tutti i clienti sono provenienti dalla regione IN."
      ],
      "metadata": {
        "id": "0NmmZdIYSKvQ"
      },
      "id": "0NmmZdIYSKvQ"
    },
    {
      "cell_type": "markdown",
      "source": [
        "Provenienza clienti"
      ],
      "metadata": {
        "id": "Q5kwXzz6MinO"
      },
      "id": "Q5kwXzz6MinO"
    },
    {
      "cell_type": "code",
      "source": [
        "new_df['ship-country'].value_counts()"
      ],
      "metadata": {
        "id": "WH9bBY1FaT9P"
      },
      "id": "WH9bBY1FaT9P",
      "execution_count": null,
      "outputs": []
    },
    {
      "cell_type": "markdown",
      "source": [
        "Quantità di vestiti acquistata e frequenza di acquisto"
      ],
      "metadata": {
        "id": "__3pNMFjMp15"
      },
      "id": "__3pNMFjMp15"
    },
    {
      "cell_type": "code",
      "source": [
        "print(new_df['Qty'].astype(int).value_counts())\n",
        "qty=new_df.groupby('Qty')[['Order ID','Category','months']].value_counts().reset_index()\n",
        "gratis=qty['Qty'][qty['Qty']==0.0].index\n",
        "clothes=new_df['Category'].unique()\n",
        "for m,n in zip(mes,clothes):\n",
        "    lista=n,qty.iloc[gratis][qty['Category']==n]['count'].sum()\n",
        "    lista2=n,qty[qty['Category']==n]['count'].sum()\n",
        "    print(lista,lista2)\n",
        "qty1=qty.groupby('Qty')[['months','Category']].value_counts()\n",
        "print(new_df['Qty'].mean())\n",
        "qty2=new_df.groupby('Qty')['promotion-ids'].value_counts().reset_index()\n",
        "qty2['Qty'].unique()\n",
        "qty3=new_df.groupby('Qty')[['Category','Courier Status','months']].value_counts().reset_index()\n",
        "unshipped=qty3[qty3['Courier Status']=='Unshipped'].sort_values(by='months',ascending=True)\n",
        "shipped=qty3[qty3['Courier Status']=='Shipped'].sort_values(by='months',ascending=True)\n",
        "sns.catplot(data=unshipped,y='count',x='Category',kind='bar',hue='months',col=1,hue_order=mes)\n",
        "plt.xticks(rotation=100)\n",
        "plt.title('Unshipped')\n",
        "unshipped\n",
        "sns.catplot(data=shipped,y='count',x='Category',kind='bar',hue='months',col=1,hue_order=mes)\n",
        "plt.xticks(rotation=90)\n",
        "plt.title('Shipped')\n",
        "shipped\n"
      ],
      "metadata": {
        "id": "5aRNa6B3i2ai"
      },
      "id": "5aRNa6B3i2ai",
      "execution_count": null,
      "outputs": []
    },
    {
      "cell_type": "markdown",
      "source": [
        "Scopriamo che la maggior parte dei clienti ha acquistato 1 solo capo di abbigliamento, mentre pochi 2 e ancora meno 3.\n",
        "\n",
        "- La maggior parte dei clienti ha acquistato ad Aprile,Maggio e Giugno 1 quantità.\n",
        "\n",
        "-C'è però un'incogruenza perchè abbiamo 5091 persone che hanno acquistato 0 capi.\n",
        "Due clienti hanno acquistato ben 5 volte 0 capi e 46 clienti 3 volte 0 capi, 260 2 volte e 4378 1 volta.\n",
        "Quindi la maggior parte degli stessi clienti ha acquistato 1 volta 0 capi (quindi man mano che dimuisce la quantità, aumentano il numero di clienti che acquistano 0 capi)\n",
        "Pochissimi a marzo,1958 ad aprile,1540 a maggio e 1190 a giugno (quindi il maggior numero si è avuto tra aprile e maggio).\n",
        "Ma com'è possibile?\n",
        "\n",
        "- La kurta è il capo più non acquistato (1953) seguito da il set.\n",
        "\n",
        "- Scopriamo però che la maggior parte dei capi è stato acquistato a 0 e solo (kurta e set, quindi c'è un problema li e ci potrebbe essere anche una correlazione con i valori anomali che abbassano il guadagno) e di più ad Aprile.\n",
        "Che cosa è successo ai prezzi di questi articoli nel mese di Aprile?\n",
        "A maggio anche se meno che ad Aprile mentre a Giugno soltanto i set ma ancora di meno.\n",
        "E scopriamo anche che queste quantità 0 non sono state acquistate con nessuna promozione.\n",
        "\n",
        "- Tutte le persone che hanno acquistato a 0 (5091) sono in realtà ordini cancellati e quindi anche i kurta e i set sono dovuti a questo (4,33%).\n",
        "\n",
        "- Ma capiamo anche che nella quantità 1 abbiamo 42037 kurta spediti e 2546 non spediti (il 5,7% non spedito e il 94,28% spedito, quindi una minima parte). Quindi gli ordini cancellati non si verificano soltanto nella quantità 0.\n",
        "Lo stesso per quanto riguarda i set (spediti 39216 e non spediti 2387, quindi 5,7% non spediti e 94,26% spediti).ma anche gli altri articoli seppur di meno sono stati non spediti. Perchè questa mancata spedizione?\n",
        "Questo si verifica anche nella categoria 2 anche se di meno (es. kurta spediti 92 % e non spediti 7,91%) mentre nella categoria 3 no.\n",
        "\n",
        "- Per quanto riguarda i kurta sono non spediti a Giugno 1079, 843 ad aprile contro i 624 di Maggio mentre a Marzo 0 (quantità 1). I set 934 Giugno, 835 aprile, 615 maggio e 3 marzo.\n",
        "Pochi nella quantità 2 e 0 nella quantità 3.\n",
        "\n",
        "- Dal grafico vediamo chiaramente vediamo che sia per i kurta che per i set ad aprile hanno avuto lo stesso numero di ordini non spediti alto mentre a maggio vi è stata una decrescita e a giugno una risalita più alta rispetto ad aprile soprattutto per i set mentre per gli ordini spediti nei set e i kurta notiamo una decrescita graduale tra aprile e giugno ma anche per gli altri articoli.\n",
        "Vediamo infatti il guadagno decrescere dal grafico.\n"
      ],
      "metadata": {
        "id": "NN-hwyFhodE7"
      },
      "id": "NN-hwyFhodE7"
    },
    {
      "cell_type": "code",
      "source": [
        "new_df['Amount']\n",
        "xticks=['March','April','May','June']\n",
        "sns.catplot(data=guadagno,x='months',y='Amount',order=xticks,kind='bar')\n",
        "plt.show()"
      ],
      "metadata": {
        "id": "_kINQKSXJWo_"
      },
      "id": "_kINQKSXJWo_",
      "execution_count": null,
      "outputs": []
    },
    {
      "cell_type": "code",
      "source": [
        "\n",
        "guadagno\n",
        "guadagno_dettagliato=new_df[['Amount','months','Category']]#[new_df['Category']!='kurta']\n",
        "guadagno_dettagliato"
      ],
      "metadata": {
        "id": "82YIRi34yUbr"
      },
      "id": "82YIRi34yUbr",
      "execution_count": null,
      "outputs": []
    },
    {
      "cell_type": "code",
      "source": [
        "print(df['Status'].value_counts())\n",
        "resi=df['Status'][(df['Status']=='Shipped - Returned to Seller')|(df['Status']=='Shipped - Returning to Seller')]\n",
        "persi=df['Status'][df['Status']=='Shipped - Lost in Transit']\n",
        "cancellati=df['Status'][df['Status']=='Cancelled']\n",
        "sospesi=df['Status'][(df['Status']=='Pending')|(df['Status']=='Pending - Waiting for Pick Up')]\n",
        "resi,cancellati,sospesi,persi\n",
        "new_df['resi']=resi\n",
        "new_df['persi']=persi\n",
        "new_df['cancellati']=cancellati"
      ],
      "metadata": {
        "id": "7YRtwdHz30BC"
      },
      "id": "7YRtwdHz30BC",
      "execution_count": null,
      "outputs": []
    },
    {
      "cell_type": "markdown",
      "source": [
        "Quindi c'è una correlazione decrescente tra il guadagno dettagliato per mesi di tutti gli articoli tranne i kurta e il guadagno dei kurta di -0,38. Ciò vuol dire che è possibile utilizzare la regressione lineare.\n",
        "Abbiamo una correlazione crescente di 0.71 tra set e guadagno e ciò vuol dire che i set al contrario dei kurta fanno aumentare il guadagno mentre abbiamo una correlazione negativa di -0.54 tra kurta e set ciò vuol dire che come normalmente è all'aumentaree del guadagno dell'uno diminuisce l'altro.\n",
        "Notiamo che la correlazione positiva scende se si considera il rapporto tra il guadagno e altri articoli come il western dress di 0.25 e con set e kurta di -0.26 quindi incidono di meno l'uno sul guadagno dell'altro.\n",
        "E cala ancora di più con top arrivando ai -0.0610 e con gli altri 0.22.\n",
        "Quindi la concentrazione è sui i set e i kurta.\n",
        "La correlazione in generale tra guadagni mensili e guadagni dei kurta è -0.42.\n",
        "Notiamo comunque che c'è una correlazione negativa intorno ai -0,27 tra western dress, kurta e set.\n",
        "\n",
        "\n",
        "Scarsamente correlato il guadagno con stato di spedizione e promozioni,anche se con le promozioni abbiamo lo 0,34.\n",
        "Notiamo però che se le promozioni incidono positivamente sul guadagno dei western dress ma negativamente sui kurta e i set con correlazione negativa dello -0,042 e -0,024.\n",
        "La quantità però incide sullo stato di spedizione e viceversa.\n",
        "C'è però una correlazione decrescente tra tipo di spedizione e promozioni di -0,69."
      ],
      "metadata": {
        "id": "2y48voAT4_hi"
      },
      "id": "2y48voAT4_hi"
    },
    {
      "cell_type": "markdown",
      "source": [
        "La stessa decrescita si osserva nei kurta e nei set. Anche se sappiamo che mediamente per i kurta si è speso a Marzo 462$, aprile 432$, a maggio 473$, a giugno $465. Ciò vuol dire che aumenta e decresce costantemente. Notiamo però man mano che passano i mesi il suo prezzo massimo si sta avvicinando al prezzo massimo in generale di 1296$.\n",
        "Abbiamo una correlazione negativa tra il guadagno mensile e il guadagno mensile della kurta di -4,42,quindi considerevole.\n",
        "Al decrescere dell'uno, abbiamo l'aumentare dell'altro.\n",
        "Potremmo usare la regressione lineare per prevedere il prossimo mese, Luglio, quanto aumenterà il guadagno o dimuinirà in base alle future vendite dei kurta."
      ],
      "metadata": {
        "id": "2z1bmwKs2PWD"
      },
      "id": "2z1bmwKs2PWD"
    },
    {
      "cell_type": "markdown",
      "source": [
        "Ipotesi\n",
        "\n",
        "- cannabilizzazione dei kurta nei confronti degli altri prodotti.\n",
        "- impatto positivo dei set sul guadagno.\n",
        "- scarso impatto della quantità ma anche degli altri fattori come lo stato del corriere e promozioni sul guadagno (tranne promozioni impatto positivo).\n",
        "- effetto negativo delle promozioni sui kurta e sui set.\n",
        "- correlazione positiva tra stato corriere e quantità.\n",
        "- correlazione negativa tra tipo di spedizione e promozione.\n",
        "- impatto negativo degli ordini gratis sul guadagno di -0,36 e sui kurta e i set del -0,10."
      ],
      "metadata": {
        "id": "Dkj9xshlGWMs"
      },
      "id": "Dkj9xshlGWMs"
    },
    {
      "cell_type": "markdown",
      "source": [
        "Obiettivi previsione\n",
        "\n",
        " - prevedere l'impatto e il numero futuro di ordini 0.0 sul guadagno utilizzando anche i dati in base alla stagionalità.\n",
        " - prevedere il guadagno prossimo di Luglio in base al guadagno dei kurta e quanto incide negativamente.\n",
        " - prevedere la relazione tra i kurta e gli altri prodotti e quanto aumenterà il guadagno\n",
        " - prevedere il numero di resi o ordini persi nel transito."
      ],
      "metadata": {
        "id": "7BOv0Bcp7150"
      },
      "id": "7BOv0Bcp7150"
    },
    {
      "cell_type": "markdown",
      "source": [
        "# Data preprocessing"
      ],
      "metadata": {
        "id": "2Wfqagz95yf5"
      },
      "id": "2Wfqagz95yf5"
    },
    {
      "cell_type": "markdown",
      "source": [
        "Valori nulli"
      ],
      "metadata": {
        "id": "LmF2A_t69pOn"
      },
      "id": "LmF2A_t69pOn"
    },
    {
      "cell_type": "code",
      "source": [
        "from sklearn.impute import SimpleImputer\n",
        "from sklearn.compose import make_column_transformer\n",
        "from sklearn.preprocessing import OneHotEncoder\n",
        "from sklearn.preprocessing import OrdinalEncoder\n",
        "from sklearn.linear_model import LinearRegression\n",
        "from sklearn.model_selection import train_test_split"
      ],
      "metadata": {
        "id": "xAkSm9kMeUlQ"
      },
      "id": "xAkSm9kMeUlQ",
      "execution_count": null,
      "outputs": []
    },
    {
      "cell_type": "code",
      "source": [
        "#new_df.drop(columns=['Unnamed: 22','outliers'],inplace=True)\n",
        "new_df\n",
        "new_df.isnull()[new_df.isnull()==True].sum()\n"
      ],
      "metadata": {
        "id": "rAXIt-JnvduJ"
      },
      "id": "rAXIt-JnvduJ",
      "execution_count": null,
      "outputs": []
    },
    {
      "cell_type": "markdown",
      "source": [
        "Creazione altro dataset"
      ],
      "metadata": {
        "id": "EA6QwBGP8JW4"
      },
      "id": "EA6QwBGP8JW4"
    },
    {
      "cell_type": "code",
      "source": [
        "#outliers=df['Amount'].iloc[indice]\n",
        "#new_df['outliers']=outliers\n",
        "\n",
        "df_train=new_df[['Status','Courier Status','promotion-ids','ship-service-level','Category','Qty','Amount','fulfilled-by']]\n",
        "#freeordermanca\n",
        "#df_train.dropna()\n",
        "df_train\n",
        "\n",
        "\n"
      ],
      "metadata": {
        "id": "fDdSh8Z-4Q_t"
      },
      "id": "fDdSh8Z-4Q_t",
      "execution_count": null,
      "outputs": []
    },
    {
      "cell_type": "code",
      "source": [
        "amountt=np.array(df_train['Amount']).reshape(-1,1)\n",
        "imp_cat=SimpleImputer(strategy='median').set_output(transform='pandas')\n",
        "amount_median=imp_cat.fit_transform(amountt)\n",
        "df_train['Amount_median']=amount_median\n",
        "df_train[df_train['Amount_median']==df_train['Amount'].median()]\n",
        "df_train\n",
        "\n",
        "sns.histplot(df_train['Amount_median'])\n",
        "\n",
        "imp_mode1=SimpleImputer(strategy='most_frequent').set_output(transform='pandas')\n",
        "imp_mode2=SimpleImputer(strategy='most_frequent').set_output(transform='pandas')\n",
        "imp_mode3=SimpleImputer(strategy='most_frequent').set_output(transform='pandas')\n",
        "\n",
        "transform=make_column_transformer((imp_mode1,['Courier Status']),\n",
        "                                  (imp_mode2,['promotion-ids']),\n",
        "                                  (imp_mode3,['fulfilled-by']))\n",
        "df1=transform.fit_transform(df_train)\n",
        "df2=pd.DataFrame(df1,columns=['Courier Status2','promotion-ids1','fulfilled-by1'])\n",
        "unione=df_train.join(df2,how='inner')\n",
        "unione=unione.drop(columns=['Amount','Courier Status','promotion-ids','fulfilled-by'])\n",
        "dati_previsione=unione.copy()\n",
        "dati_previsione"
      ],
      "metadata": {
        "id": "agMei5cAfI0m"
      },
      "id": "agMei5cAfI0m",
      "execution_count": null,
      "outputs": []
    },
    {
      "cell_type": "code",
      "source": [
        "encoder=OneHotEncoder(handle_unknown='ignore',sparse_output=False).set_output(transform='pandas')\n",
        "colonne=unione[['Category','promotion-ids1','fulfilled-by1']]\n",
        "#colonne1=np.array(colonne).reshape(-1,1)\n",
        "encoder1=encoder.fit_transform(colonne)\n",
        "encoder1\n",
        "encoder_ordinal=OrdinalEncoder().set_output(transform='pandas')\n",
        "ordinal=encoder_ordinal.fit_transform(unione[['Status','ship-service-level','Courier Status2']])\n",
        "unione[['Status','ship-service-level','Courier Status2']]=ordinal\n",
        "tutti_dati=unione.join(encoder1,how='inner')\n",
        "tutti_dati.drop(columns=['Category','promotion-ids1','fulfilled-by1'])\n",
        "tutti_dati"
      ],
      "metadata": {
        "id": "pXE3af1puDQQ"
      },
      "id": "pXE3af1puDQQ",
      "execution_count": null,
      "outputs": []
    },
    {
      "cell_type": "code",
      "source": [
        "X=tutti_dati[tutti_dati.columns[tutti_dati.columns!='Amount_median']]\n",
        "y=tutti_dati['Amount_median']\n",
        "\n",
        "X_train,X_test,y_train,y_test=train_test_split(X,y,test_size=0.2,random_state=False)\n",
        "regr=LinearRegression()\n",
        "regr.fit(X_train,y_train)\n",
        "y_new=regr.predict(X_test)\n",
        "y_new"
      ],
      "metadata": {
        "id": "YC4v-XJgM-26"
      },
      "id": "YC4v-XJgM-26",
      "execution_count": null,
      "outputs": []
    },
    {
      "cell_type": "code",
      "source": [
        "anomalie=[]\n",
        "months_1=[]\n",
        "for m in mes:\n",
        "    lista2=new_df[['Category','Amount','months']][(new_df['Category']=='kurta')&(new_df['months']==m)]['Amount'].sum()\n",
        "    anomalie.append(lista2)\n",
        "    kurta=pd.DataFrame(anomalie,columns=['guadagno'])\n",
        "    months_1.append(m)\n",
        "    kurta['months']=months_1\n",
        "\n",
        "\n",
        "corr=guadagno['Amount'].corr(kurta['guadagno'])\n",
        "kurta[['months_2','kurta']]=guadagno[['months','Amount']]\n",
        "def spostamento(df,column1,column2):\n",
        "   copy=df.copy()\n",
        "   df['kurta'].iloc[column1]=copy['kurta'].iloc[column2]\n",
        "\n",
        "spostamento(kurta,0,2)\n",
        "spostamento(kurta,1,0)\n",
        "spostamento(kurta,2,3)\n",
        "spostamento(kurta,1,3)\n",
        "kurta.drop(['months_2'],inplace=True,axis=1)\n",
        "print(corr)\n",
        "\n",
        "kurta_totale=new_df[['Amount','months','Category']][new_df['Category']=='kurta']\n",
        "set_totale=new_df[['Amount','months','Category']][new_df['Category']=='Set']\n",
        "western_dress=new_df[['Amount','months','Category']][new_df['Category']=='Western Dress']\n",
        "kurta_totale.rename(columns={'Amount':'kurta','months':'months_1'},inplace=True)\n",
        "set_totale.rename(columns={'Amount':'set','months':'months_2'},inplace=True)\n",
        "western_dress.rename(columns={'Amount':'western dress','months':'months_3'},inplace=True)#.reset_index(drop=True,inplace=True)\n",
        "data=pd.concat([guadagno_dettagliato,kurta_totale,set_totale,western_dress],axis=1)\n",
        "data=data.fillna(0)\n",
        "data['Qty']=new_df['Qty']\n",
        "#new_df['Status']=pd.factorize(new_df['Status'])[0]\n",
        "#new_df['Courier Status']=pd.factorize(new_df['Courier Status'])[0]\n",
        "#new_df['promotion-ids']=pd.factorize(new_df['promotion-ids'])[0]\n",
        "#new_df['ship-service-level']=pd.factorize(new_df['ship-service-level'])[0]\n",
        "#new_df['free_order']=pd.factorize(new_df['free_order'])[0]\n",
        "#data[['Status','Courier Status','promotion-ids','ship-service-level']]=new_df[['Status','Courier Status','promotion-ids','ship-service-level']]\n",
        "#data['free_order']=new_df['free_order']\n",
        "#data['outliers']=new_df['outliers']\n",
        "#new_df['resi']=pd.factorize(new_df['resi'])[0]\n",
        "#new_df['persi']=pd.factorize(new_df['persi'])[0]\n",
        "#new_df['cancellati']=pd.factorize(new_df['cancellati'])[0]\n",
        "#data['resi']=new_df['resi']\n",
        "#data['persi']=new_df['persi']\n",
        "#data['cancellati']=new_df['cancellati']\n",
        "\n",
        "#corr_1=data.corr(numeric_only=True)\n",
        "data\n",
        "\n",
        "#sns.scatterplot(data=data,x='Amount',y='Amount_1',hue='months')\n",
        "#sns.scatterplot(data=data,x='Amount',y='kurta',hue='months')\n",
        "plt.show()\n",
        "#corr_1"
      ],
      "metadata": {
        "id": "7e7_RgFNwzSM"
      },
      "id": "7e7_RgFNwzSM",
      "execution_count": null,
      "outputs": []
    }
  ],
  "metadata": {
    "kernelspec": {
      "display_name": "Python 3",
      "name": "python3"
    },
    "language_info": {
      "codemirror_mode": {
        "name": "ipython",
        "version": 2
      },
      "file_extension": ".py",
      "mimetype": "text/x-python",
      "name": "python",
      "nbconvert_exporter": "python",
      "pygments_lexer": "ipython2",
      "version": "2.7.6"
    },
    "colab": {
      "provenance": [],
      "gpuType": "T4",
      "name": "ecommerce-analysis.ipynb",
      "include_colab_link": true
    },
    "accelerator": "GPU"
  },
  "nbformat": 4,
  "nbformat_minor": 5
}